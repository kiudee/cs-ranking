{
 "cells": [
  {
   "cell_type": "code",
   "execution_count": 1,
   "metadata": {},
   "outputs": [
    {
     "name": "stderr",
     "output_type": "stream",
     "text": [
      "Using TensorFlow backend.\n"
     ]
    }
   ],
   "source": [
    "import warnings\n",
    "warnings.filterwarnings('ignore')\n",
    "%matplotlib inline\n",
    "import matplotlib.pyplot as plt\n",
    "import numpy as np\n",
    "from csrank import *\n",
    "from csrank.util import setup_logging\n",
    "from csrank.tensorflow_util import configure_numpy_keras\n",
    "import os\n",
    "import logging\n",
    "from csrank.callbacks import DebugOutput"
   ]
  },
  {
   "cell_type": "code",
   "execution_count": 2,
   "metadata": {},
   "outputs": [],
   "source": [
    "configure_numpy_keras(seed=42)\n",
    "setup_logging(log_path=os.path.join(os.getcwd() ,\"letor.log\"))\n",
    "logger = logging.getLogger('Experiment')\n",
    "n_objects = 5\n",
    "letor = LetorRankingChoiceDatasetReader(n_objects=n_objects, year=2007)\n",
    "X_train, Y_train, X_test, Y_test = letor.get_single_train_test_split()"
   ]
  },
  {
   "cell_type": "code",
   "execution_count": 3,
   "metadata": {},
   "outputs": [
    {
     "data": {
      "text/plain": [
       "((14076, 5, 46), (3472, 5, 46))"
      ]
     },
     "execution_count": 3,
     "metadata": {},
     "output_type": "execute_result"
    }
   ],
   "source": [
    "X_train.shape, X_test.shape, "
   ]
  },
  {
   "cell_type": "code",
   "execution_count": 4,
   "metadata": {},
   "outputs": [],
   "source": [
    "from csrank.metrics_np import *\n",
    "from csrank.tensorflow_util import configure_numpy_keras, get_mean_loss_for_dictionary, get_loss_for_array\n",
    "def eval_l(learner):\n",
    "    choice_metrics = {'F1Score': f1_measure, 'Precision': precision, 'Recall': recall,\n",
    "                      'Subset01loss': subset_01_loss, 'HammingLoss': hamming, 'Informedness': instance_informedness,\n",
    "                      \"AucScore\": auc_score, \"AveragePrecisionScore\": average_precision}\n",
    "    ERROR_OUTPUT_STRING = 'Out of sample error %s : %0.4f'\n",
    "    metrics_on_predictions = [f1_measure, precision, recall, subset_01_loss, hamming, instance_informedness]\n",
    "    s_pred = leaner.predict_scores(X_test)\n",
    "    y_pred = leaner.predict_for_scores(s_pred)\n",
    "    for name, evaluation_metric in choice_metrics.items():\n",
    "        predictions = s_pred\n",
    "        if evaluation_metric in metrics_on_predictions:\n",
    "            logger.info(\"Metric on predictions\")\n",
    "            predictions = y_pred\n",
    "        if isinstance(Y_test, dict):\n",
    "            metric_loss = get_mean_loss_for_dictionary(evaluation_metric, Y_test, predictions)\n",
    "        else:\n",
    "            metric_loss = get_loss_for_array(evaluation_metric, Y_test, predictions)\n",
    "        logger.info(ERROR_OUTPUT_STRING % (name, metric_loss))"
   ]
  },
  {
   "cell_type": "code",
   "execution_count": 5,
   "metadata": {},
   "outputs": [],
   "source": [
    "leaner = PairwiseSVMChoiceFunction(n_object_features=X_train.shape[-1])\n",
    "leaner.fit(X_train, Y_train)\n",
    "eval_l(leaner)"
   ]
  },
  {
   "cell_type": "code",
   "execution_count": 6,
   "metadata": {},
   "outputs": [],
   "source": [
    "leaner = RankNetChoiceFunction(n_object_features=X_train.shape[-1])\n",
    "leaner.fit(X_train, Y_train)\n",
    "eval_l(leaner)"
   ]
  },
  {
   "cell_type": "code",
   "execution_count": 21,
   "metadata": {},
   "outputs": [],
   "source": [
    "leaner = FETAChoiceFunction(add_zeroth_order_model=True,n_object_features=X_train.shape[-1], n_objects=n_objects, epochs=100)\n",
    "leaner.fit(X_train, Y_train)\n",
    "eval_l(leaner)"
   ]
  },
  {
   "cell_type": "code",
   "execution_count": 8,
   "metadata": {},
   "outputs": [],
   "source": [
    "params = {'n_hidden_set_units': 8, 'n_hidden_set_layers': 1, 'n_hidden_joint_units': 64, 'n_hidden_joint_layers': 3, \n",
    "          'reg_strength': 4.247757035900819e-05, 'learning_rate': 0.003563146920998131, 'batch_size': 89}\n",
    "leaner = FATEChoiceFunction(n_object_features=X_train.shape[-1], **params)\n",
    "leaner.fit(X_train, Y_train, epochs=10)\n",
    "eval_l(leaner)"
   ]
  },
  {
   "cell_type": "code",
   "execution_count": 23,
   "metadata": {},
   "outputs": [],
   "source": [
    "import pymc3 as pm\n",
    "params = {\"diff\": \"absolute\",\"tolerance\": 0.01, \"every\":50}\n",
    "fit_params = {\"sampler\":\"vi\",\"sample_params\":{\"tune\":2,\"draws\":2,\"chains\":2,\"njobs\":4},\n",
    "              \"vi_params\":{\"n\":20000,\"method\":\"advi\", \"callbacks\":[pm.callbacks.CheckParametersConvergence(**params)],\n",
    "              }, \"draws\":500}\n",
    "fit_params['random_seed'] = 42\n",
    "learner_params = {\"n_objects\": X_train.shape[-2], \"n_object_features\": X_train.shape[-1], \n",
    "                  'loss_function': 'categorical_crossentropy', 'regularization': 'l2', 'n_nests': 5}"
   ]
  },
  {
   "cell_type": "code",
   "execution_count": 24,
   "metadata": {},
   "outputs": [
    {
     "name": "stderr",
     "output_type": "stream",
     "text": [
      "Only 2 samples in chain.\n",
      "Auto-assigning NUTS sampler...\n",
      "Initializing NUTS using jitter+adapt_diag...\n",
      "Multiprocess sampling (2 chains in 4 jobs)\n",
      "NUTS: [intercept, weights, weights_sd, weights_mu]\n",
      "Sampling 2 chains: 100%|██████████| 8/8 [00:00<00:00, 20.47draws/s]\n",
      "The chain contains only diverging samples. The model is probably misspecified.\n",
      "Average Loss = 19.252:  31%|███▏      | 6295/20000 [00:43<01:34, 145.64it/s]\n",
      "Convergence achieved at 6300\n",
      "Interrupted at 6,299 [31%]: Average Loss = 55.613\n"
     ]
    }
   ],
   "source": [
    "leaner = GeneralizedLinearModel(**learner_params)\n",
    "leaner.fit(X_train, Y_train, **fit_params)\n",
    "eval_l(leaner)"
   ]
  },
  {
   "cell_type": "code",
   "execution_count": null,
   "metadata": {},
   "outputs": [],
   "source": []
  }
 ],
 "metadata": {
  "kernelspec": {
   "display_name": "Python 3",
   "language": "python",
   "name": "python3"
  },
  "language_info": {
   "codemirror_mode": {
    "name": "ipython",
    "version": 3
   },
   "file_extension": ".py",
   "mimetype": "text/x-python",
   "name": "python",
   "nbconvert_exporter": "python",
   "pygments_lexer": "ipython3",
   "version": "3.6.6"
  }
 },
 "nbformat": 4,
 "nbformat_minor": 2
}
