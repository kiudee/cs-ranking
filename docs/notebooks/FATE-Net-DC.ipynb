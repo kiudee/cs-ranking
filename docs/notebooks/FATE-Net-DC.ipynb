{
 "cells": [
  {
   "cell_type": "markdown",
   "metadata": {},
   "source": [
    "# Discrete Choice Problem"
   ]
  },
  {
   "cell_type": "code",
   "execution_count": 1,
   "metadata": {},
   "outputs": [
    {
     "name": "stderr",
     "output_type": "stream",
     "text": [
      "Using TensorFlow backend.\n"
     ]
    }
   ],
   "source": [
    "import warnings\n",
    "warnings.filterwarnings('ignore')\n",
    "%matplotlib inline\n",
    "import matplotlib.pyplot as plt\n",
    "import numpy as np\n",
    "from csrank import FATEDiscreteChoiceFunction"
   ]
  },
  {
   "cell_type": "markdown",
   "metadata": {},
   "source": [
    "## The Medoid DC Problem"
   ]
  },
  {
   "cell_type": "markdown",
   "metadata": {},
   "source": [
    "In the medoid problem the goal of the discrete choice algorithms for the medoid problem is to find the most central object for the given set.\n",
    "This problem is inspired by solving the task of finding a good representation of the given data using the most central point of the data points\n",
    "\n",
    "We will generate a random dataset where each instance contains 5 objects and 2 features for easy plotting."
   ]
  },
  {
   "cell_type": "code",
   "execution_count": 2,
   "metadata": {},
   "outputs": [],
   "source": [
    "from csrank import DiscreteChoiceDatasetGenerator\n",
    "seed = 123\n",
    "n_train = 10000\n",
    "n_test = 10000\n",
    "n_features = 2\n",
    "n_objects = 5\n",
    "gen = DiscreteChoiceDatasetGenerator(dataset_type='medoid', random_state=seed,\n",
    "                                n_train_instances=n_train,\n",
    "                                n_test_instances=n_test,\n",
    "                                n_objects=n_objects,\n",
    "                                n_features=n_features)"
   ]
  },
  {
   "cell_type": "code",
   "execution_count": 3,
   "metadata": {},
   "outputs": [],
   "source": [
    "X_train, Y_train, X_test, Y_test = gen.get_single_train_test_split()"
   ]
  },
  {
   "cell_type": "markdown",
   "metadata": {},
   "source": [
    "Let us plot a random instance. The medoid is marked as M."
   ]
  },
  {
   "cell_type": "code",
   "execution_count": 4,
   "metadata": {},
   "outputs": [
    {
     "data": {
      "image/png": "[encoded data removed]",
      "text/plain": [
       "<Figure size 360x360 with 1 Axes>"
      ]
     },
     "metadata": {
      "needs_background": "light"
     },
     "output_type": "display_data"
    }
   ],
   "source": [
    "def get_name(d):\n",
    "    if d ==0:\n",
    "        return \"\"\n",
    "    else:\n",
    "        return \"M\"\n",
    "fig, ax = plt.subplots(figsize=(5,5))\n",
    "inst = np.random.choice(n_train)\n",
    "ax.scatter(X_train[inst][:, 0], X_train[inst][:, 1])\n",
    "for i in range(n_objects):\n",
    "    ax.text(X_train[inst, i, 0]+0.01,\n",
    "            X_train[inst, i, 1]+0.01,\n",
    "            s=get_name(int(Y_train[inst, i])))"
   ]
  },
  {
   "cell_type": "markdown",
   "metadata": {},
   "source": [
    "## The FATE network\n",
    "The first-aggregate-then-evaluate approach learns an embedding of each object and then aggregates that into a _context_:\n",
    "\\begin{equation}\n",
    "\t\\mu_{C(\\vec{x})} = \\frac{1}{|C(\\vec{x})|} \\sum_{\\vec{y} \\in C(\\vec{x})} \\phi(\\vec{y})\n",
    "\\end{equation}\n",
    "and then scores each object $\\vec{x}$ using a generalized utility function $U (\\vec{x}, \\mu_{C(\\vec{x})})$"
   ]
  },
  {
   "cell_type": "code",
   "execution_count": 5,
   "metadata": {},
   "outputs": [],
   "source": [
    "from keras.optimizers import SGD\n",
    "from csrank import FATEObjectRanker\n",
    "from csrank.losses import smooth_rank_loss\n",
    "fate = FATEObjectRanker(\n",
    "    n_object_features=n_features,\n",
    "    loss_function=smooth_rank_loss,\n",
    "    optimizer=SGD(lr=1e-4, nesterov=True, momentum=0.9))"
   ]
  },
  {
   "cell_type": "markdown",
   "metadata": {},
   "source": [
    "We will run the training for only 10 epochs to get an idea of the convergence:"
   ]
  },
  {
   "cell_type": "code",
   "execution_count": 6,
   "metadata": {},
   "outputs": [
    {
     "name": "stdout",
     "output_type": "stream",
     "text": [
      "Train on 9000 samples, validate on 1000 samples\n",
      "Epoch 1/10\n",
      "9000/9000 [==============================] - 7s 790us/step - loss: 11.3605 - zero_one_rank_loss_for_scores_ties: 2.0293 - val_loss: 11.2111 - val_zero_one_rank_loss_for_scores_ties: 1.7210\n",
      "Epoch 2/10\n",
      "9000/9000 [==============================] - 1s 116us/step - loss: 11.1619 - zero_one_rank_loss_for_scores_ties: 1.6179 - val_loss: 11.1051 - val_zero_one_rank_loss_for_scores_ties: 1.5140\n",
      "Epoch 3/10\n",
      "9000/9000 [==============================] - 1s 99us/step - loss: 11.0700 - zero_one_rank_loss_for_scores_ties: 1.4800 - val_loss: 11.0183 - val_zero_one_rank_loss_for_scores_ties: 1.4280\n",
      "Epoch 4/10\n",
      "9000/9000 [==============================] - 1s 107us/step - loss: 10.9863 - zero_one_rank_loss_for_scores_ties: 1.3791 - val_loss: 10.9573 - val_zero_one_rank_loss_for_scores_ties: 1.3700\n",
      "Epoch 5/10\n",
      "9000/9000 [==============================] - 1s 90us/step - loss: 10.9226 - zero_one_rank_loss_for_scores_ties: 1.3129 - val_loss: 10.8968 - val_zero_one_rank_loss_for_scores_ties: 1.3050\n",
      "Epoch 6/10\n",
      "9000/9000 [==============================] - 1s 107us/step - loss: 10.8706 - zero_one_rank_loss_for_scores_ties: 1.2694 - val_loss: 10.8609 - val_zero_one_rank_loss_for_scores_ties: 1.2710\n",
      "Epoch 7/10\n",
      "9000/9000 [==============================] - 1s 100us/step - loss: 10.8295 - zero_one_rank_loss_for_scores_ties: 1.2314 - val_loss: 10.8278 - val_zero_one_rank_loss_for_scores_ties: 1.2280\n",
      "Epoch 8/10\n",
      "9000/9000 [==============================] - 1s 101us/step - loss: 10.7905 - zero_one_rank_loss_for_scores_ties: 1.1993 - val_loss: 10.7815 - val_zero_one_rank_loss_for_scores_ties: 1.1950\n",
      "Epoch 9/10\n",
      "9000/9000 [==============================] - 1s 129us/step - loss: 10.7565 - zero_one_rank_loss_for_scores_ties: 1.1682 - val_loss: 10.7629 - val_zero_one_rank_loss_for_scores_ties: 1.1790\n",
      "Epoch 10/10\n",
      "9000/9000 [==============================] - 1s 102us/step - loss: 10.7296 - zero_one_rank_loss_for_scores_ties: 1.1589 - val_loss: 10.7258 - val_zero_one_rank_loss_for_scores_ties: 1.1680\n"
     ]
    }
   ],
   "source": [
    "fate.fit(X_train, Y_train, verbose=True, epochs=10)"
   ]
  },
  {
   "cell_type": "code",
   "execution_count": 7,
   "metadata": {},
   "outputs": [],
   "source": [
    "scores = fate.predict_scores(X_test)"
   ]
  },
  {
   "cell_type": "code",
   "execution_count": 8,
   "metadata": {},
   "outputs": [
    {
     "data": {
      "text/plain": [
       "0.005"
      ]
     },
     "execution_count": 8,
     "metadata": {},
     "output_type": "execute_result"
    }
   ],
   "source": [
    "from csrank.metrics_np import categorical_accuracy_np\n",
    "from keras import backend as K\n",
    "categorical_accuracy_np(Y_test, scores)"
   ]
  },
  {
   "cell_type": "markdown",
   "metadata": {},
   "source": [
    "Not converged yet, but let us visualize the scores it assigns to test instances:"
   ]
  },
  {
   "cell_type": "code",
   "execution_count": 12,
   "metadata": {},
   "outputs": [
    {
     "data": {
      "image/png": "[encoded data removed]",
      "text/plain": [
       "<Figure size 360x360 with 1 Axes>"
      ]
     },
     "metadata": {
      "needs_background": "light"
     },
     "output_type": "display_data"
    }
   ],
   "source": [
    "fig, ax = plt.subplots(figsize=(5,5))\n",
    "inst = np.random.choice(n_test)\n",
    "ax.scatter(X_test[inst][:, 0], X_test[inst][:, 1])\n",
    "for i in range(n_objects):\n",
    "    ax.text(X_test[inst, i, 0]+0.01,\n",
    "            X_test[inst, i, 1]+0.01,\n",
    "            s=int(Y_test[inst, i]))\n",
    "    ax.text(X_test[inst, i, 0]+0.01,\n",
    "            X_test[inst, i, 1]-0.05,\n",
    "            s='{:.1f}'.format(scores[inst][i]),\n",
    "            color='b')"
   ]
  }
 ],
 "metadata": {
  "kernelspec": {
   "display_name": "Python 3",
   "language": "python",
   "name": "python3"
  },
  "language_info": {
   "codemirror_mode": {
    "name": "ipython",
    "version": 3
   },
   "file_extension": ".py",
   "mimetype": "text/x-python",
   "name": "python",
   "nbconvert_exporter": "python",
   "pygments_lexer": "ipython3",
   "version": "3.6.7"
  }
 },
 "nbformat": 4,
 "nbformat_minor": 2
}
