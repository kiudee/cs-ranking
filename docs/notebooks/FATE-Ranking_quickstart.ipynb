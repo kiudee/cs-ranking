{
 "cells": [
  {
   "cell_type": "markdown",
   "metadata": {},
   "source": [
    "# FATE-Ranking"
   ]
  },
  {
   "cell_type": "code",
   "execution_count": 1,
   "metadata": {},
   "outputs": [
    {
     "name": "stderr",
     "output_type": "stream",
     "text": [
      "Using TensorFlow backend.\n"
     ]
    }
   ],
   "source": [
    "import warnings\n",
    "warnings.filterwarnings('ignore')\n",
    "%matplotlib inline\n",
    "import matplotlib.pyplot as plt\n",
    "import numpy as np\n",
    "from csrank import FATEObjectRanker"
   ]
  },
  {
   "cell_type": "markdown",
   "metadata": {},
   "source": [
    "## The medoid problem"
   ]
  },
  {
   "cell_type": "code",
   "execution_count": 2,
   "metadata": {
    "collapsed": true
   },
   "outputs": [],
   "source": [
    "from csrank import SyntheticDatasetGenerator"
   ]
  },
  {
   "cell_type": "markdown",
   "metadata": {},
   "source": [
    "In the medoid problem the goal of the learner is to sort a set of randomly generated points based on their distance to the _medoid_.\n",
    "This problem is inspired by the setting of ranking similarity learning, where the goal is to learn a similarity function from triplets of objects.\n",
    "\n",
    "We will generate a random dataset where each instance contains 5 objects and 2 features for easy plotting."
   ]
  },
  {
   "cell_type": "code",
   "execution_count": 3,
   "metadata": {},
   "outputs": [],
   "source": [
    "seed = 123\n",
    "n_train = 10000\n",
    "n_test = 10000\n",
    "n_features = 2\n",
    "n_objects = 5\n",
    "gen = SyntheticDatasetGenerator(dataset_type='medoid', random_state=seed,\n",
    "                                n_train_instances=n_train,\n",
    "                                n_test_instances=n_test,\n",
    "                                n_objects=n_objects,\n",
    "                                n_features=n_features)"
   ]
  },
  {
   "cell_type": "code",
   "execution_count": 4,
   "metadata": {
    "collapsed": true
   },
   "outputs": [],
   "source": [
    "X_train, Y_train, X_test, Y_test = gen.get_single_train_test_split()"
   ]
  },
  {
   "cell_type": "markdown",
   "metadata": {},
   "source": [
    "Let us plot a random instance. The points are ranked by distance to the medoid. The medoid itself gets always gets the index 0."
   ]
  },
  {
   "cell_type": "code",
   "execution_count": 5,
   "metadata": {},
   "outputs": [
    {
     "data": {
      "image/png": "[encoded data removed]",
      "text/plain": [
       "<matplotlib.figure.Figure at 0x7f42eb5924a8>"
      ]
     },
     "metadata": {},
     "output_type": "display_data"
    }
   ],
   "source": [
    "fig, ax = plt.subplots(figsize=(5,5))\n",
    "inst = np.random.choice(n_train)\n",
    "ax.scatter(X_train[inst][:, 0], X_train[inst][:, 1])\n",
    "for i in range(n_objects):\n",
    "    ax.text(X_train[inst, i, 0]+0.01,\n",
    "            X_train[inst, i, 1]+0.01,\n",
    "            s=int(Y_train[inst, i]))"
   ]
  },
  {
   "cell_type": "markdown",
   "metadata": {},
   "source": [
    "## The FATE network\n",
    "The first-aggregate-then-evaluate approach learns an embedding of each object and then aggregates that into a _context_:\n",
    "\\begin{equation}\n",
    "\t\\mu_{C(\\vec{x})} = \\frac{1}{|C(\\vec{x})|} \\sum_{\\vec{y} \\in C(\\vec{x})} \\phi(\\vec{y})\n",
    "\\end{equation}\n",
    "and then scores each object $\\vec{x}$ using a generalized utility function $U (\\vec{x}, \\mu_{C(\\vec{x})})$"
   ]
  },
  {
   "cell_type": "code",
   "execution_count": 22,
   "metadata": {
    "collapsed": true
   },
   "outputs": [],
   "source": [
    "from keras.optimizers import SGD\n",
    "from csrank import FATEObjectRanker\n",
    "from csrank.losses import smooth_rank_loss\n",
    "fate = FATEObjectRanker(\n",
    "    n_object_features=n_features,\n",
    "    loss_function=smooth_rank_loss,\n",
    "    optimizer=SGD(lr=1e-4, nesterov=True, momentum=0.9))"
   ]
  },
  {
   "cell_type": "markdown",
   "metadata": {},
   "source": [
    "We will run the training for only 10 epochs to get an idea of the convergence:"
   ]
  },
  {
   "cell_type": "code",
   "execution_count": 23,
   "metadata": {},
   "outputs": [
    {
     "name": "stdout",
     "output_type": "stream",
     "text": [
      "Train on 9000 samples, validate on 1000 samples\n",
      "Epoch 1/10\n",
      "9000/9000 [==============================] - 6s 632us/step - loss: 17.6640 - zero_one_rank_loss_for_scores_ties: 0.3784 - zero_one_rank_loss_for_scores: 0.3784 - val_loss: 17.4572 - val_zero_one_rank_loss_for_scores_ties: 0.3570 - val_zero_one_rank_loss_for_scores: 0.3570\n",
      "Epoch 2/10\n",
      "9000/9000 [==============================] - 2s 222us/step - loss: 17.1047 - zero_one_rank_loss_for_scores_ties: 0.3199 - zero_one_rank_loss_for_scores: 0.3199 - val_loss: 17.1056 - val_zero_one_rank_loss_for_scores_ties: 0.3023 - val_zero_one_rank_loss_for_scores: 0.3023\n",
      "Epoch 3/10\n",
      "9000/9000 [==============================] - 2s 225us/step - loss: 16.5706 - zero_one_rank_loss_for_scores_ties: 0.2779 - zero_one_rank_loss_for_scores: 0.2779 - val_loss: 17.2872 - val_zero_one_rank_loss_for_scores_ties: 0.3058 - val_zero_one_rank_loss_for_scores: 0.3058\n",
      "Epoch 4/10\n",
      "9000/9000 [==============================] - 2s 226us/step - loss: 16.3942 - zero_one_rank_loss_for_scores_ties: 0.2632 - zero_one_rank_loss_for_scores: 0.2632 - val_loss: 16.2413 - val_zero_one_rank_loss_for_scores_ties: 0.2583 - val_zero_one_rank_loss_for_scores: 0.2583\n",
      "Epoch 5/10\n",
      "9000/9000 [==============================] - 2s 224us/step - loss: 16.2025 - zero_one_rank_loss_for_scores_ties: 0.2559 - zero_one_rank_loss_for_scores: 0.2559 - val_loss: 16.7568 - val_zero_one_rank_loss_for_scores_ties: 0.3008 - val_zero_one_rank_loss_for_scores: 0.3008\n",
      "Epoch 6/10\n",
      "9000/9000 [==============================] - 2s 224us/step - loss: 16.0721 - zero_one_rank_loss_for_scores_ties: 0.2486 - zero_one_rank_loss_for_scores: 0.2486 - val_loss: 16.8292 - val_zero_one_rank_loss_for_scores_ties: 0.3022 - val_zero_one_rank_loss_for_scores: 0.3022\n",
      "Epoch 7/10\n",
      "9000/9000 [==============================] - 2s 230us/step - loss: 16.0405 - zero_one_rank_loss_for_scores_ties: 0.2498 - zero_one_rank_loss_for_scores: 0.2498 - val_loss: 15.9915 - val_zero_one_rank_loss_for_scores_ties: 0.2447 - val_zero_one_rank_loss_for_scores: 0.2447\n",
      "Epoch 8/10\n",
      "9000/9000 [==============================] - 2s 226us/step - loss: 16.0027 - zero_one_rank_loss_for_scores_ties: 0.2476 - zero_one_rank_loss_for_scores: 0.2476 - val_loss: 16.1705 - val_zero_one_rank_loss_for_scores_ties: 0.2479 - val_zero_one_rank_loss_for_scores: 0.2479\n",
      "Epoch 9/10\n",
      "9000/9000 [==============================] - 2s 231us/step - loss: 15.9558 - zero_one_rank_loss_for_scores_ties: 0.2448 - zero_one_rank_loss_for_scores: 0.2448 - val_loss: 16.0216 - val_zero_one_rank_loss_for_scores_ties: 0.2408 - val_zero_one_rank_loss_for_scores: 0.2408\n",
      "Epoch 10/10\n",
      "9000/9000 [==============================] - 2s 225us/step - loss: 15.9439 - zero_one_rank_loss_for_scores_ties: 0.2457 - zero_one_rank_loss_for_scores: 0.2457 - val_loss: 16.4365 - val_zero_one_rank_loss_for_scores_ties: 0.2620 - val_zero_one_rank_loss_for_scores: 0.2620\n"
     ]
    }
   ],
   "source": [
    "fate.fit(X_train, Y_train, verbose=True, epochs=10)"
   ]
  },
  {
   "cell_type": "code",
   "execution_count": 24,
   "metadata": {
    "collapsed": true
   },
   "outputs": [],
   "source": [
    "scores = fate.predict_scores(X_test)"
   ]
  },
  {
   "cell_type": "code",
   "execution_count": 25,
   "metadata": {},
   "outputs": [
    {
     "data": {
      "text/plain": [
       "0.2638101"
      ]
     },
     "execution_count": 25,
     "metadata": {},
     "output_type": "execute_result"
    }
   ],
   "source": [
    "from csrank.metrics import zero_one_rank_loss_for_scores\n",
    "from keras import backend as K\n",
    "K.eval(zero_one_rank_loss_for_scores(Y_test, scores))"
   ]
  },
  {
   "cell_type": "markdown",
   "metadata": {},
   "source": [
    "Not converged yet, but let us visualize the scores it assigns to test instances:"
   ]
  },
  {
   "cell_type": "code",
   "execution_count": 33,
   "metadata": {},
   "outputs": [
    {
     "data": {
      "image/png": "[encoded data removed]",
      "text/plain": [
       "<matplotlib.figure.Figure at 0x7f40779da240>"
      ]
     },
     "metadata": {},
     "output_type": "display_data"
    }
   ],
   "source": [
    "fig, ax = plt.subplots(figsize=(5,5))\n",
    "inst = np.random.choice(n_test)\n",
    "ax.scatter(X_test[inst][:, 0], X_test[inst][:, 1])\n",
    "for i in range(n_objects):\n",
    "    ax.text(X_test[inst, i, 0]+0.01,\n",
    "            X_test[inst, i, 1]+0.01,\n",
    "            s=int(Y_test[inst, i]))\n",
    "    ax.text(X_test[inst, i, 0]+0.01,\n",
    "            X_test[inst, i, 1]-0.025,\n",
    "            s='{:.1f}'.format(scores[inst][i]),\n",
    "            color='b')"
   ]
  },
  {
   "cell_type": "code",
   "execution_count": null,
   "metadata": {
    "collapsed": true
   },
   "outputs": [],
   "source": []
  }
 ],
 "metadata": {
  "kernelspec": {
   "display_name": "Python 3",
   "language": "python",
   "name": "python3"
  },
  "language_info": {
   "codemirror_mode": {
    "name": "ipython",
    "version": 3
   },
   "file_extension": ".py",
   "mimetype": "text/x-python",
   "name": "python",
   "nbconvert_exporter": "python",
   "pygments_lexer": "ipython3",
   "version": "3.6.3"
  }
 },
 "nbformat": 4,
 "nbformat_minor": 2
}
