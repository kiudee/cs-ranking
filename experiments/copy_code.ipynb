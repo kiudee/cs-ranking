{
 "cells": [
  {
   "cell_type": "code",
   "execution_count": null,
   "metadata": {},
   "outputs": [],
   "source": [
    "import subprocess\n",
    "from csrank.experiments import DBConnector\n",
    "import os\n",
    "import inspect\n",
    "DIR_PATH = os.path.dirname(os.path.abspath(inspect.getfile(inspect.currentframe())))\n",
    "LOGS_FOLDER = 'logs'\n",
    "OPTIMIZER_FOLDER = 'optimizers'\n",
    "PREDICTIONS_FOLDER = 'predictions'\n",
    "MODEL_FOLDER = 'models'\n",
    "schema = 'discrete_choice'\n",
    "config_file_path = os.path.join(DIR_PATH, 'config', 'clusterdb.json')"
   ]
  },
  {
   "cell_type": "code",
   "execution_count": null,
   "metadata": {},
   "outputs": [],
   "source": [
    "self = DBConnector(config_file_path=config_file_path, is_gpu=False, schema=schema)\n",
    "self.init_connection()\n",
    "select_jobs = \"SELECT hash_value from {}.avail_jobs where job_id=454\".format(schema)\n",
    "self.cursor_db.execute(select_jobs)\n",
    "hash_value = self.cursor_db.fetchall()[0][0]\n",
    "self.close_connection()\n",
    "log_path = os.path.join(DIR_PATH, LOGS_FOLDER, \"{}.log\".format(hash_value))\n",
    "optimizer_path = os.path.join(DIR_PATH, OPTIMIZER_FOLDER, \"{}\".format(hash_value))\n",
    "cmd = \"rsync -avz --rsh=\\\"sshpass -p Pr3t#@6787473@ ssh -o StrictHostKeyChecking=no -l prithag\\\" {} pc2:/scratch/hpc-prf-obal/prithag/cs-ranking/experiments/logs/\".format(log_path)"
   ]
  },
  {
   "cell_type": "code",
   "execution_count": null,
   "metadata": {},
   "outputs": [],
   "source": [
    "f= open(\"{}/.hash_value\".format(os.environ['HOME']),\"w+\")\n",
    "f.write(hash_value+\"\\n\")\n",
    "f.close()"
   ]
  },
  {
   "cell_type": "code",
   "execution_count": null,
   "metadata": {},
   "outputs": [],
   "source": [
    "! cat ~/.hash_value"
   ]
  },
  {
   "cell_type": "code",
   "execution_count": null,
   "metadata": {},
   "outputs": [],
   "source": [
    "! val=cat ~/.hash_value\n",
    "! echo $val\n",
    "! rsync -avz --rsh=\"sshpass -p Pr3t#@6787473@ ssh -o StrictHostKeyChecking=no -l prithag\" ~/cs-ranking/experiments/logs/$val.log pc2:/scratch/hpc-prf-obal/prithag/cs-ranking/experiments/logs/\n",
    "! rsync -avz --rsh=\"sshpass -p Pr3t#@6787473@ ssh -o StrictHostKeyChecking=no -l prithag\" ~/cs-ranking/experiments/optimizers/$val pc2:/scratch/hpc-prf-obal/prithag/cs-ranking/experiments/optimizers/"
   ]
  },
  {
   "cell_type": "code",
   "execution_count": null,
   "metadata": {},
   "outputs": [],
   "source": [
    "! rsync -avz --rsh=\"sshpass -p Pr3t#@6787473@ ssh -o StrictHostKeyChecking=no -l prithag\" /home/prithagupta/cs-ranking/experiments/logs/6bad4b68a842755094a1b3faca65538c6bc6e2ad.log pc2:/scratch/hpc-prf-obal/prithag/cs-ranking/experiments/logs/"
   ]
  },
  {
   "cell_type": "code",
   "execution_count": null,
   "metadata": {},
   "outputs": [],
   "source": [
    "cmd = \"rsync -avz --rsh=\\\"sshpass -p Pr3t#@6787473@ ssh -o StrictHostKeyChecking=no -l prithag\\\" {} pc2:/scratch/hpc-prf-obal/prithag/cs-ranking/experiments/optimizers/\".format(optimizer_path)\n",
    "! $cmd"
   ]
  }
 ],
 "metadata": {
  "kernelspec": {
   "display_name": "Python (linenv)",
   "language": "python",
   "name": "linenv"
  },
  "language_info": {
   "codemirror_mode": {
    "name": "ipython",
    "version": 3
   },
   "file_extension": ".py",
   "mimetype": "text/x-python",
   "name": "python",
   "nbconvert_exporter": "python",
   "pygments_lexer": "ipython3",
   "version": "3.6.7"
  }
 },
 "nbformat": 4,
 "nbformat_minor": 2
}
