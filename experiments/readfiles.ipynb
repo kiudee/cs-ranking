{
 "cells": [
  {
   "cell_type": "code",
   "execution_count": 1,
   "metadata": {},
   "outputs": [],
   "source": [
    "import warnings\n",
    "warnings.filterwarnings('ignore')\n",
    "import os\n",
    "import glob\n",
    "import inspect\n",
    "from datetime import datetime\n",
    "import logging\n",
    "import sys\n",
    "import pandas as pd"
   ]
  },
  {
   "cell_type": "code",
   "execution_count": 2,
   "metadata": {},
   "outputs": [],
   "source": [
    "logging.basicConfig(stream=sys.stdout, level=logging.INFO)\n",
    "logger = logging.getLogger('Experiment')"
   ]
  },
  {
   "cell_type": "code",
   "execution_count": 3,
   "metadata": {},
   "outputs": [],
   "source": [
    "DIR_PATH = os.path.dirname(os.path.abspath(inspect.getfile(inspect.currentframe())))\n",
    "config_file_path = os.path.join(DIR_PATH, 'config', 'clusterdb.json')"
   ]
  },
  {
   "cell_type": "code",
   "execution_count": 4,
   "metadata": {},
   "outputs": [
    {
     "data": {
      "text/html": [
       "<div>\n",
       "<style scoped>\n",
       "    .dataframe tbody tr th:only-of-type {\n",
       "        vertical-align: middle;\n",
       "    }\n",
       "\n",
       "    .dataframe tbody tr th {\n",
       "        vertical-align: top;\n",
       "    }\n",
       "\n",
       "    .dataframe thead th {\n",
       "        text-align: right;\n",
       "    }\n",
       "</style>\n",
       "<table border=\"1\" class=\"dataframe\">\n",
       "  <thead>\n",
       "    <tr style=\"text-align: right;\">\n",
       "      <th></th>\n",
       "      <th>Unnamed: 0</th>\n",
       "      <th>Learning Problem</th>\n",
       "      <th>Model</th>\n",
       "      <th>Dataset</th>\n",
       "      <th>Duration</th>\n",
       "      <th>UseGPU</th>\n",
       "    </tr>\n",
       "  </thead>\n",
       "  <tbody>\n",
       "    <tr>\n",
       "      <th>0</th>\n",
       "      <td>4</td>\n",
       "      <td>ChoiceModel</td>\n",
       "      <td>AllPositive</td>\n",
       "      <td>Expedia 10 Objects</td>\n",
       "      <td>2756</td>\n",
       "      <td>False</td>\n",
       "    </tr>\n",
       "    <tr>\n",
       "      <th>1</th>\n",
       "      <td>6</td>\n",
       "      <td>ChoiceModel</td>\n",
       "      <td>FATE-Linear</td>\n",
       "      <td>Expedia 10 Objects</td>\n",
       "      <td>133761</td>\n",
       "      <td>True</td>\n",
       "    </tr>\n",
       "    <tr>\n",
       "      <th>2</th>\n",
       "      <td>63</td>\n",
       "      <td>ChoiceModel</td>\n",
       "      <td>FATE-Net</td>\n",
       "      <td>Expedia 10 Objects</td>\n",
       "      <td>23002</td>\n",
       "      <td>True</td>\n",
       "    </tr>\n",
       "    <tr>\n",
       "      <th>3</th>\n",
       "      <td>53</td>\n",
       "      <td>ChoiceModel</td>\n",
       "      <td>FETA-Linear</td>\n",
       "      <td>Expedia 10 Objects</td>\n",
       "      <td>115694</td>\n",
       "      <td>True</td>\n",
       "    </tr>\n",
       "    <tr>\n",
       "      <th>4</th>\n",
       "      <td>23</td>\n",
       "      <td>ChoiceModel</td>\n",
       "      <td>FETA-Net</td>\n",
       "      <td>Expedia 10 Objects</td>\n",
       "      <td>17380</td>\n",
       "      <td>True</td>\n",
       "    </tr>\n",
       "    <tr>\n",
       "      <th>...</th>\n",
       "      <td>...</td>\n",
       "      <td>...</td>\n",
       "      <td>...</td>\n",
       "      <td>...</td>\n",
       "      <td>...</td>\n",
       "      <td>...</td>\n",
       "    </tr>\n",
       "    <tr>\n",
       "      <th>403</th>\n",
       "      <td>100</td>\n",
       "      <td>Ranker</td>\n",
       "      <td>FETA-Net</td>\n",
       "      <td>Tag Genome Similar Movie</td>\n",
       "      <td>111192</td>\n",
       "      <td>True</td>\n",
       "    </tr>\n",
       "    <tr>\n",
       "      <th>404</th>\n",
       "      <td>22</td>\n",
       "      <td>Ranker</td>\n",
       "      <td>ListNet</td>\n",
       "      <td>Tag Genome Similar Movie</td>\n",
       "      <td>36954</td>\n",
       "      <td>True</td>\n",
       "    </tr>\n",
       "    <tr>\n",
       "      <th>405</th>\n",
       "      <td>12</td>\n",
       "      <td>Ranker</td>\n",
       "      <td>Random</td>\n",
       "      <td>Tag Genome Similar Movie</td>\n",
       "      <td>6624</td>\n",
       "      <td>False</td>\n",
       "    </tr>\n",
       "    <tr>\n",
       "      <th>406</th>\n",
       "      <td>78</td>\n",
       "      <td>Ranker</td>\n",
       "      <td>RankNet</td>\n",
       "      <td>Tag Genome Similar Movie</td>\n",
       "      <td>64570</td>\n",
       "      <td>True</td>\n",
       "    </tr>\n",
       "    <tr>\n",
       "      <th>407</th>\n",
       "      <td>70</td>\n",
       "      <td>Ranker</td>\n",
       "      <td>RankSVM</td>\n",
       "      <td>Tag Genome Similar Movie</td>\n",
       "      <td>47623</td>\n",
       "      <td>False</td>\n",
       "    </tr>\n",
       "  </tbody>\n",
       "</table>\n",
       "<p>408 rows × 6 columns</p>\n",
       "</div>"
      ],
      "text/plain": [
       "     Unnamed: 0 Learning Problem        Model                   Dataset  \\\n",
       "0             4      ChoiceModel  AllPositive        Expedia 10 Objects   \n",
       "1             6      ChoiceModel  FATE-Linear        Expedia 10 Objects   \n",
       "2            63      ChoiceModel     FATE-Net        Expedia 10 Objects   \n",
       "3            53      ChoiceModel  FETA-Linear        Expedia 10 Objects   \n",
       "4            23      ChoiceModel     FETA-Net        Expedia 10 Objects   \n",
       "..          ...              ...          ...                       ...   \n",
       "403         100           Ranker     FETA-Net  Tag Genome Similar Movie   \n",
       "404          22           Ranker      ListNet  Tag Genome Similar Movie   \n",
       "405          12           Ranker       Random  Tag Genome Similar Movie   \n",
       "406          78           Ranker      RankNet  Tag Genome Similar Movie   \n",
       "407          70           Ranker      RankSVM  Tag Genome Similar Movie   \n",
       "\n",
       "     Duration  UseGPU  \n",
       "0        2756   False  \n",
       "1      133761    True  \n",
       "2       23002    True  \n",
       "3      115694    True  \n",
       "4       17380    True  \n",
       "..        ...     ...  \n",
       "403    111192    True  \n",
       "404     36954    True  \n",
       "405      6624   False  \n",
       "406     64570    True  \n",
       "407     47623   False  \n",
       "\n",
       "[408 rows x 6 columns]"
      ]
     },
     "execution_count": 4,
     "metadata": {},
     "output_type": "execute_result"
    }
   ],
   "source": [
    "path = os.path.join(DIR_PATH, \"duration\", 'merged_df.csv')\n",
    "df =pd.read_csv(path)\n",
    "df"
   ]
  },
  {
   "cell_type": "code",
   "execution_count": 8,
   "metadata": {},
   "outputs": [
    {
     "data": {
      "text/plain": [
       "11.691176470588236"
      ]
     },
     "execution_count": 8,
     "metadata": {},
     "output_type": "execute_result"
    }
   ],
   "source": [
    "cols = [\"All\", \"Duration\"]\n",
    "x = (df[\"Duration\"].sum()/(60*60)).round(2)\n",
    "l = len(df[\"Duration\"])\n",
    "x*(0.3)/(l)"
   ]
  },
  {
   "cell_type": "code",
   "execution_count": 12,
   "metadata": {},
   "outputs": [
    {
     "data": {
      "text/plain": [
       "20.73089375"
      ]
     },
     "execution_count": 12,
     "metadata": {},
     "output_type": "execute_result"
    }
   ],
   "source": [
    "d = df[df['Model'].str.contains(\"FATE-Net\")][\"Duration\"]\n",
    "x = d.sum()/(60*60)\n",
    "l = len(d)\n",
    "x*(0.3)/(l)"
   ]
  },
  {
   "cell_type": "code",
   "execution_count": 13,
   "metadata": {},
   "outputs": [
    {
     "data": {
      "text/plain": [
       "20.73089375"
      ]
     },
     "execution_count": 13,
     "metadata": {},
     "output_type": "execute_result"
    }
   ],
   "source": [
    "d = df[df['Model'].str.contains(\"FATE-Net\")][\"Duration\"]\n",
    "x = d.sum()/(60*60)\n",
    "l = len(d)\n",
    "x*(0.3)/(l)"
   ]
  },
  {
   "cell_type": "code",
   "execution_count": 8,
   "metadata": {},
   "outputs": [],
   "source": [
    "def get_data(jobs, data, learning_problem):\n",
    "    functions = learning_functions_dict[learning_problem]\n",
    "    learning_model = learners_map[learning_problem]\n",
    "    models_dict = dict(zip(functions, learning_models_dict[learning_problem]))\n",
    "    for job in jobs:\n",
    "        job = dict(job)\n",
    "        ext = ''#'_'+get_hash_string(logger=logger, job=job)\n",
    "        job['learner'] = job['learner']\n",
    "        if \"letor\" in job['dataset'] or \"exp\" in job['dataset']:\n",
    "            job['dataset'] = get_letor_string(job['dataset_params'], learning_problem)\n",
    "        elif \"sushi\" in job['dataset']:\n",
    "            job['dataset'] = job['dataset']\n",
    "        else:\n",
    "            job['dataset'] = job['dataset_params']['dataset_type']\n",
    "        job['dataset'] =  get_dataset_name(job['dataset'].title())\n",
    "        del job['dataset_params']\n",
    "        del job['learner_params']\n",
    "        file = os.path.join(DIR_PATH, 'logs', '{}.log'.format(job['hash_value']))\n",
    "        #print(job['hash_value'])\n",
    "        if os.path.exists(file):\n",
    "            f = open(file, 'r')\n",
    "            string = f.readlines()\n",
    "            dates = []\n",
    "            for i, s in enumerate(string):\n",
    "                if 'SetupLogger' in s:\n",
    "                    if i!=0:\n",
    "                        k = i-1\n",
    "                        while True:\n",
    "                            try:\n",
    "                                d = datetime.strptime(string[k][0:19], \"%Y-%m-%d %H:%M:%S\")\n",
    "                                dates.append(d)\n",
    "                                break\n",
    "                            except:\n",
    "                                k-=1\n",
    "                    s = s[0:19].replace('\\n', '')\n",
    "                    dates.append(datetime.strptime(s, \"%Y-%m-%d %H:%M:%S\"))\n",
    "            #print(string[-1][0:19])\n",
    "            dates.append(datetime.strptime(string[-1][0:19], \"%Y-%m-%d %H:%M:%S\"))\n",
    "            #print(dates, len(dates))\n",
    "            duration = 0\n",
    "            for start,end in zip(dates[0::2], dates[1::2]):\n",
    "                #print((end-start), start, end)\n",
    "                duration += (end-start).seconds\n",
    "        if duration ==0:\n",
    "            duration = get_duration_seconds(job['duration'])\n",
    "        job['duration'] = duration\n",
    "        job['learner'] = models_dict.get(job['learner'], job['learner'])\n",
    "        del job['hash_value']\n",
    "        ##print(job)\n",
    "        l = [learners_map[learning_problem]] + list(job.values())\n",
    "        data.append(l)\n",
    "        #print('*************************************************************************')\n",
    "    return data"
   ]
  },
  {
   "cell_type": "code",
   "execution_count": 9,
   "metadata": {},
   "outputs": [
    {
     "name": "stdout",
     "output_type": "stream",
     "text": [
      "INFO:DBConnector:Config {  \"dbname\": \"clusterdb\",  \"user\": \"cluster\",  \"password\": \"qW34!XFRzR\",  \"host\": \"csr-clusterdb.cs.upb.de\",  \"port\": 5432}\n",
      "INFO:DBConnector:Connection Successful\n"
     ]
    },
    {
     "ename": "NameError",
     "evalue": "name 'learning_functions_dict' is not defined",
     "output_type": "error",
     "traceback": [
      "\u001b[0;31m---------------------------------------------------------------------------\u001b[0m",
      "\u001b[0;31mNameError\u001b[0m                                 Traceback (most recent call last)",
      "\u001b[0;32m<ipython-input-9-c2f9ed81967a>\u001b[0m in \u001b[0;36m<module>\u001b[0;34m\u001b[0m\n\u001b[1;32m     31\u001b[0m \u001b[0;32mfor\u001b[0m \u001b[0mlearning_problem\u001b[0m \u001b[0;32min\u001b[0m \u001b[0;34m[\u001b[0m\u001b[0mCHOICE_FUNCTION\u001b[0m\u001b[0;34m,\u001b[0m \u001b[0mDISCRETE_CHOICE\u001b[0m\u001b[0;34m,\u001b[0m \u001b[0mOBJECT_RANKING\u001b[0m\u001b[0;34m]\u001b[0m\u001b[0;34m:\u001b[0m\u001b[0;34m\u001b[0m\u001b[0;34m\u001b[0m\u001b[0m\n\u001b[1;32m     32\u001b[0m \u001b[0;34m\u001b[0m\u001b[0m\n\u001b[0;32m---> 33\u001b[0;31m     \u001b[0mdf\u001b[0m \u001b[0;34m=\u001b[0m \u001b[0mget_df\u001b[0m\u001b[0;34m(\u001b[0m\u001b[0mlearning_problem\u001b[0m\u001b[0;34m)\u001b[0m\u001b[0;34m\u001b[0m\u001b[0;34m\u001b[0m\u001b[0m\n\u001b[0m\u001b[1;32m     34\u001b[0m     \u001b[0;32mfor\u001b[0m \u001b[0mdataset\u001b[0m\u001b[0;34m,\u001b[0m \u001b[0mdgroup\u001b[0m \u001b[0;32min\u001b[0m \u001b[0mdf\u001b[0m\u001b[0;34m.\u001b[0m\u001b[0mgroupby\u001b[0m\u001b[0;34m(\u001b[0m\u001b[0;34m[\u001b[0m\u001b[0;34m'Dataset'\u001b[0m\u001b[0;34m]\u001b[0m\u001b[0;34m)\u001b[0m\u001b[0;34m:\u001b[0m\u001b[0;34m\u001b[0m\u001b[0;34m\u001b[0m\u001b[0m\n\u001b[1;32m     35\u001b[0m         \u001b[0mduration\u001b[0m \u001b[0;34m=\u001b[0m \u001b[0mdgroup\u001b[0m\u001b[0;34m[\u001b[0m\u001b[0mdgroup\u001b[0m\u001b[0;34m[\u001b[0m\u001b[0;34m'Model'\u001b[0m\u001b[0;34m]\u001b[0m\u001b[0;34m.\u001b[0m\u001b[0misin\u001b[0m\u001b[0;34m(\u001b[0m\u001b[0;34m[\u001b[0m\u001b[0;34m'FETA-Net'\u001b[0m\u001b[0;34m]\u001b[0m\u001b[0;34m)\u001b[0m\u001b[0;34m]\u001b[0m\u001b[0;34m[\u001b[0m\u001b[0;34m'Duration'\u001b[0m\u001b[0;34m]\u001b[0m\u001b[0;34m.\u001b[0m\u001b[0mmean\u001b[0m\u001b[0;34m(\u001b[0m\u001b[0;34m)\u001b[0m\u001b[0;34m\u001b[0m\u001b[0;34m\u001b[0m\u001b[0m\n",
      "\u001b[0;32m<ipython-input-9-c2f9ed81967a>\u001b[0m in \u001b[0;36mget_df\u001b[0;34m(learning_problem)\u001b[0m\n\u001b[1;32m     15\u001b[0m \u001b[0;34m\u001b[0m\u001b[0m\n\u001b[1;32m     16\u001b[0m     \u001b[0mdata\u001b[0m \u001b[0;34m=\u001b[0m \u001b[0;34m[\u001b[0m\u001b[0;34m]\u001b[0m\u001b[0;34m\u001b[0m\u001b[0;34m\u001b[0m\u001b[0m\n\u001b[0;32m---> 17\u001b[0;31m     \u001b[0mdata\u001b[0m \u001b[0;34m=\u001b[0m \u001b[0mget_data\u001b[0m\u001b[0;34m(\u001b[0m\u001b[0mjobs\u001b[0m\u001b[0;34m,\u001b[0m \u001b[0mdata\u001b[0m\u001b[0;34m,\u001b[0m \u001b[0mlearning_problem\u001b[0m\u001b[0;34m)\u001b[0m\u001b[0;34m\u001b[0m\u001b[0;34m\u001b[0m\u001b[0m\n\u001b[0m\u001b[1;32m     18\u001b[0m     \u001b[0;32mif\u001b[0m \u001b[0mlearning_problem\u001b[0m \u001b[0;34m==\u001b[0m \u001b[0mDISCRETE_CHOICE\u001b[0m\u001b[0;34m:\u001b[0m\u001b[0;34m\u001b[0m\u001b[0;34m\u001b[0m\u001b[0m\n\u001b[1;32m     19\u001b[0m         \u001b[0mself\u001b[0m\u001b[0;34m.\u001b[0m\u001b[0minit_connection\u001b[0m\u001b[0;34m(\u001b[0m\u001b[0;34m)\u001b[0m\u001b[0;34m\u001b[0m\u001b[0;34m\u001b[0m\u001b[0m\n",
      "\u001b[0;32m<ipython-input-8-b3cc7a36d599>\u001b[0m in \u001b[0;36mget_data\u001b[0;34m(jobs, data, learning_problem)\u001b[0m\n\u001b[1;32m      1\u001b[0m \u001b[0;32mdef\u001b[0m \u001b[0mget_data\u001b[0m\u001b[0;34m(\u001b[0m\u001b[0mjobs\u001b[0m\u001b[0;34m,\u001b[0m \u001b[0mdata\u001b[0m\u001b[0;34m,\u001b[0m \u001b[0mlearning_problem\u001b[0m\u001b[0;34m)\u001b[0m\u001b[0;34m:\u001b[0m\u001b[0;34m\u001b[0m\u001b[0;34m\u001b[0m\u001b[0m\n\u001b[0;32m----> 2\u001b[0;31m     \u001b[0mfunctions\u001b[0m \u001b[0;34m=\u001b[0m \u001b[0mlearning_functions_dict\u001b[0m\u001b[0;34m[\u001b[0m\u001b[0mlearning_problem\u001b[0m\u001b[0;34m]\u001b[0m\u001b[0;34m\u001b[0m\u001b[0;34m\u001b[0m\u001b[0m\n\u001b[0m\u001b[1;32m      3\u001b[0m     \u001b[0mlearning_model\u001b[0m \u001b[0;34m=\u001b[0m \u001b[0mlearners_map\u001b[0m\u001b[0;34m[\u001b[0m\u001b[0mlearning_problem\u001b[0m\u001b[0;34m]\u001b[0m\u001b[0;34m\u001b[0m\u001b[0;34m\u001b[0m\u001b[0m\n\u001b[1;32m      4\u001b[0m     \u001b[0mmodels_dict\u001b[0m \u001b[0;34m=\u001b[0m \u001b[0mdict\u001b[0m\u001b[0;34m(\u001b[0m\u001b[0mzip\u001b[0m\u001b[0;34m(\u001b[0m\u001b[0mfunctions\u001b[0m\u001b[0;34m,\u001b[0m \u001b[0mlearning_models_dict\u001b[0m\u001b[0;34m[\u001b[0m\u001b[0mlearning_problem\u001b[0m\u001b[0;34m]\u001b[0m\u001b[0;34m)\u001b[0m\u001b[0;34m)\u001b[0m\u001b[0;34m\u001b[0m\u001b[0;34m\u001b[0m\u001b[0m\n\u001b[1;32m      5\u001b[0m     \u001b[0;32mfor\u001b[0m \u001b[0mjob\u001b[0m \u001b[0;32min\u001b[0m \u001b[0mjobs\u001b[0m\u001b[0;34m:\u001b[0m\u001b[0;34m\u001b[0m\u001b[0;34m\u001b[0m\u001b[0m\n",
      "\u001b[0;31mNameError\u001b[0m: name 'learning_functions_dict' is not defined"
     ]
    }
   ],
   "source": [
    "def get_df(learning_problem):\n",
    "    select_st = \"SELECT learner, learner_params, dataset, dataset_params, hash_value, duration, is_gpu from {}.avail_jobs where fold_id=0\"\n",
    "    if learning_problem == CHOICE_FUNCTION:\n",
    "        select_cmd = select_st.format(learning_problem+'s')\n",
    "    else:\n",
    "        select_cmd = select_st.format(learning_problem)\n",
    "\n",
    "        #config_file_path = \n",
    "    self = DBConnector(config_file_path=config_file_path, is_gpu=False, schema=learning_problem)\n",
    "    self.init_connection()\n",
    "    self.cursor_db.execute(select_cmd)\n",
    "    logs_dir = os.path.join(DIR_PATH, 'logs')\n",
    "    jobs = self.cursor_db.fetchall()\n",
    "    self.close_connection()\n",
    "\n",
    "    data = []\n",
    "    data = get_data(jobs, data, learning_problem)\n",
    "    if learning_problem == DISCRETE_CHOICE:\n",
    "        self.init_connection()\n",
    "        select_st = select_st.format('pymc3_' + DISCRETE_CHOICE)\n",
    "        self.cursor_db.execute(select_st)\n",
    "        jobs = self.cursor_db.fetchall()\n",
    "\n",
    "        data = get_data(jobs, data, learning_problem)\n",
    "        self.close_connection()\n",
    "    columns = ['Learning Problem', 'Model' ,'Dataset', 'Duration', 'UseGPU']\n",
    "    df = pd.DataFrame(data, columns=columns)\n",
    "    df.sort_values(by=['Dataset', 'Learning Problem', 'Model'], inplace=True)\n",
    "    return df\n",
    "dfs = []\n",
    "for learning_problem in [CHOICE_FUNCTION, DISCRETE_CHOICE, OBJECT_RANKING]:\n",
    "    \n",
    "    df = get_df(learning_problem)\n",
    "    for dataset, dgroup in df.groupby(['Dataset']):\n",
    "        duration = dgroup[dgroup['Model'].isin(['FETA-Net'])]['Duration'].mean()\n",
    "        df.loc[(df['Model']=='FETA-Net') & (df['Dataset']==dataset)]['Duration'] = duration\n",
    "    df = df.drop_duplicates()\n",
    "    dfs.append(df)"
   ]
  },
  {
   "cell_type": "code",
   "execution_count": 20,
   "metadata": {},
   "outputs": [],
   "source": [
    "merged_df = pd.concat(dfs)\n",
    "merged_df.to_csv(os.path.join(DIR_PATH, 'merged_df.csv'))"
   ]
  },
  {
   "cell_type": "code",
   "execution_count": 29,
   "metadata": {},
   "outputs": [
    {
     "data": {
      "text/plain": [
       "38.97"
      ]
     },
     "execution_count": 29,
     "metadata": {},
     "output_type": "execute_result"
    }
   ],
   "source": [
    "(merged_df['Duration'].mean()/(60*60)).round(2)"
   ]
  },
  {
   "cell_type": "code",
   "execution_count": 27,
   "metadata": {},
   "outputs": [
    {
     "data": {
      "text/plain": [
       "10097.35"
      ]
     },
     "execution_count": 27,
     "metadata": {},
     "output_type": "execute_result"
    }
   ],
   "source": [
    "(merged_df[merged_df.UseGPU]['Duration'].sum()/(60*60)).round(2)"
   ]
  },
  {
   "cell_type": "code",
   "execution_count": 28,
   "metadata": {},
   "outputs": [
    {
     "data": {
      "text/plain": [
       "5802.65"
      ]
     },
     "execution_count": 28,
     "metadata": {},
     "output_type": "execute_result"
    }
   ],
   "source": [
    "(merged_df[~merged_df.UseGPU]['Duration'].sum()/(60*60)).round(2)"
   ]
  },
  {
   "cell_type": "code",
   "execution_count": null,
   "metadata": {},
   "outputs": [],
   "source": [
    "files = os.path.join(os.getcwd(), \"logs\", \"*.log\")\n",
    "files = glob.glob(files)\n",
    "for file in files:\n",
    "    with open(file) as f:\n",
    "        file_ =  f.read()\n",
    "        if 'fatelinear_ranker' in file_ and \"hypervolume\" in file_:\n",
    "            print(\"true\", file)\n",
    "            file_"
   ]
  },
  {
   "cell_type": "code",
   "execution_count": null,
   "metadata": {},
   "outputs": [],
   "source": [
    "'Fate, medoid of 0.4505: [234, 0.08858513268691572, 1013, 146, 0.4607117081739425]'\n",
    "'Feta, medoid of 0.4186:  [0.09984350703883657, 43, 103, 0.30440122790492]'\n",
    "'FEta hypervolume 0.4199: [0.03642928475940855, 1024, 68, 0.01]'\n",
    "'Fate hypervolue 0.4485: [126, 0.1, 32, 150, 0.01]'"
   ]
  },
  {
   "cell_type": "code",
   "execution_count": 3,
   "metadata": {},
   "outputs": [],
   "source": [
    "import logging\n",
    "rootLogger = logging.getLogger('')\n",
    "rootLogger.setLevel(logging.INFO)\n",
    "logFormatter = logging.Formatter(\"%(asctime)s [%(threadName)-12.12s] [%(levelname)-5.5s]  %(message)s\")\n",
    "consoleHandler = logging.StreamHandler()\n",
    "consoleHandler.setFormatter(logFormatter)\n",
    "rootLogger.addHandler(consoleHandler)"
   ]
  },
  {
   "cell_type": "code",
   "execution_count": 4,
   "metadata": {},
   "outputs": [
    {
     "name": "stderr",
     "output_type": "stream",
     "text": [
      "Using TensorFlow backend.\n",
      "WARNING: Logging before flag parsing goes to stderr.\n",
      "I1101 15:59:54.481148 139940215146304 dataset_reader.py:34] Learning Problem: discrete_choice\n",
      "I1101 16:00:00.654258 139940215146304 expedia_dataset_reader.py:29] Done loading the dataset\n",
      "I1101 16:00:01.718835 139940215146304 expedia_dataset_reader.py:119] Sampled instances 1460 from objects 10\n",
      "I1101 16:00:02.204896 139940215146304 expedia_dataset_reader.py:119] Sampled instances 1542 from objects 11\n",
      "I1101 16:00:02.661779 139940215146304 expedia_dataset_reader.py:119] Sampled instances 1480 from objects 12\n",
      "I1101 16:00:03.193498 139940215146304 expedia_dataset_reader.py:119] Sampled instances 1467 from objects 13\n",
      "I1101 16:00:03.577910 139940215146304 expedia_dataset_reader.py:119] Sampled instances 1395 from objects 14\n",
      "I1101 16:00:04.044952 139940215146304 expedia_dataset_reader.py:119] Sampled instances 1417 from objects 15\n",
      "I1101 16:00:04.462865 139940215146304 expedia_dataset_reader.py:119] Sampled instances 1396 from objects 16\n",
      "I1101 16:00:04.890295 139940215146304 expedia_dataset_reader.py:119] Sampled instances 1403 from objects 17\n",
      "I1101 16:00:05.376578 139940215146304 expedia_dataset_reader.py:119] Sampled instances 1447 from objects 18\n",
      "I1101 16:00:05.806453 139940215146304 expedia_dataset_reader.py:119] Sampled instances 1416 from objects 19\n",
      "I1101 16:00:06.619914 139940215146304 expedia_dataset_reader.py:119] Sampled instances 2768 from objects 20\n",
      "I1101 16:00:07.475502 139940215146304 expedia_dataset_reader.py:119] Sampled instances 2675 from objects 21\n",
      "I1101 16:00:08.381067 139940215146304 expedia_dataset_reader.py:119] Sampled instances 2668 from objects 22\n",
      "I1101 16:00:09.389958 139940215146304 expedia_dataset_reader.py:119] Sampled instances 2638 from objects 23\n",
      "I1101 16:00:10.220797 139940215146304 expedia_dataset_reader.py:119] Sampled instances 2747 from objects 24\n",
      "I1101 16:00:11.167706 139940215146304 expedia_dataset_reader.py:119] Sampled instances 3128 from objects 25\n",
      "I1101 16:00:11.981312 139940215146304 expedia_dataset_reader.py:119] Sampled instances 3520 from objects 26\n",
      "I1101 16:00:14.279728 139940215146304 expedia_dataset_reader.py:119] Sampled instances 5578 from objects 27\n",
      "I1101 16:00:15.965520 139940215146304 expedia_dataset_reader.py:119] Sampled instances 4740 from objects 28\n",
      "I1101 16:00:17.392949 139940215146304 expedia_dataset_reader.py:119] Sampled instances 4957 from objects 29\n",
      "I1101 16:00:23.917661 139940215146304 expedia_dataset_reader.py:119] Sampled instances 12963 from objects 30\n",
      "I1101 16:00:47.112365 139940215146304 expedia_dataset_reader.py:119] Sampled instances 23676 from objects 31\n",
      "I1101 16:01:42.489473 139940215146304 expedia_dataset_reader.py:119] Sampled instances 35557 from objects 32\n",
      "I1101 16:02:20.461182 139940215146304 expedia_dataset_reader.py:119] Sampled instances 31261 from objects 33\n",
      "I1101 16:02:25.174105 139940215146304 expedia_dataset_reader.py:119] Sampled instances 11330 from objects 34\n",
      "I1101 16:02:25.477015 139940215146304 expedia_dataset_reader.py:119] Sampled instances 2142 from objects 35\n",
      "I1101 16:02:25.544002 139940215146304 expedia_dataset_reader.py:119] Sampled instances 195 from objects 36\n",
      "I1101 16:02:25.588688 139940215146304 expedia_dataset_reader.py:119] Sampled instances 30 from objects 37\n",
      "I1101 16:02:25.630164 139940215146304 expedia_dataset_reader.py:119] Sampled instances 3 from objects 38\n",
      "I1101 16:02:25.630786 139940215146304 expedia_dataset_reader.py:120] Sampled instances 166999 objects 10\n"
     ]
    }
   ],
   "source": [
    "from csrank import ExpediaDiscreteChoiceDatasetReader\n",
    "import numpy as np\n",
    "dr = ExpediaDiscreteChoiceDatasetReader(n_objects=10, fold_id=4,random_state= np.random.RandomState(seed=42 + 4))\n",
    "_,_,x,y = dr.get_single_train_test_split()"
   ]
  },
  {
   "cell_type": "code",
   "execution_count": 77,
   "metadata": {},
   "outputs": [
    {
     "name": "stdout",
     "output_type": "stream",
     "text": [
      "(35000, 2)\n"
     ]
    },
    {
     "data": {
      "text/plain": [
       "array([0.2125    , 0.212475  , 0.21245   , ..., 0.01974474, 0.01974211,\n",
       "       0.01973947])"
      ]
     },
     "execution_count": 77,
     "metadata": {},
     "output_type": "execute_result"
    }
   ],
   "source": [
    "from itertools import product\n",
    "diffs = []\n",
    "X = np.arange(5, 40, 1)\n",
    "Y = np.arange(0, 1.0, 0.0001)\n",
    "probs = np.array(list(product(X, Y)))\n",
    "print(probs.shape)\n",
    "for k, acc in probs:\n",
    "    n = (acc*k-1)/(k-1)\n",
    "    diff = (1-acc)/(k-1)\n",
    "    diffs.append(diff)\n",
    "diffs = np.array(diffs)\n",
    "diffs"
   ]
  },
  {
   "cell_type": "code",
   "execution_count": 78,
   "metadata": {},
   "outputs": [
    {
     "data": {
      "image/png": "[encoded data removed]",
      "text/plain": [
       "<Figure size 432x288 with 2 Axes>"
      ]
     },
     "metadata": {
      "needs_background": "light"
     },
     "output_type": "display_data"
    }
   ],
   "source": [
    "import matplotlib.pyplot as plt\n",
    "import seaborn as sns\n",
    "sns.set(color_codes=True)\n",
    "plt.style.use('default')\n",
    "%matplotlib inline\n",
    "X, Y = probs[:, 0], probs[:, 1]\n",
    "cmap = plt.get_cmap('coolwarm')\n",
    "fig, ax = plt.subplots()\n",
    "sc = plt.scatter(X, Y, c=diffs, cmap=cmap, label='matches')\n",
    "plt.xlabel('Objects')\n",
    "plt.ylabel('Accuracy')\n",
    "\n",
    "fig.colorbar(sc)\n",
    "fig_param = {'facecolor': 'w', 'edgecolor': 'w', 'transparent': False, 'dpi': 800, 'format': 'png',\n",
    "             'bbox_inches': 'tight', 'pad_inches': 0.05}\n",
    "plt.show()"
   ]
  },
  {
   "cell_type": "code",
   "execution_count": 80,
   "metadata": {},
   "outputs": [
    {
     "data": {
      "text/plain": [
       "{5: (0.4673333333333334, 0.567, 0.6666666666666666),\n",
       " 6: (0.35050000000000003, 0.42525, 0.5),\n",
       " 7: (0.28040000000000004, 0.3402, 0.4),\n",
       " 8: (0.2336666666666667, 0.2835, 0.3333333333333333),\n",
       " 9: (0.20028571428571432, 0.24300000000000002, 0.2857142857142857),\n",
       " 10: (0.17525000000000002, 0.212625, 0.25),\n",
       " 11: (0.1557777777777778, 0.189, 0.2222222222222222),\n",
       " 12: (0.14020000000000002, 0.1701, 0.2),\n",
       " 13: (0.12745454545454546, 0.15463636363636363, 0.18181818181818182),\n",
       " 14: (0.11683333333333334, 0.14175, 0.16666666666666666),\n",
       " 15: (0.10784615384615386, 0.13084615384615386, 0.15384615384615385),\n",
       " 16: (0.10014285714285716, 0.12150000000000001, 0.14285714285714285),\n",
       " 17: (0.09346666666666667, 0.11339999999999999, 0.13333333333333333),\n",
       " 18: (0.08762500000000001, 0.1063125, 0.125),\n",
       " 19: (0.08247058823529413, 0.10005882352941176, 0.11764705882352941),\n",
       " 20: (0.0778888888888889, 0.0945, 0.1111111111111111),\n",
       " 21: (0.07378947368421053, 0.08952631578947369, 0.10526315789473684),\n",
       " 22: (0.07010000000000001, 0.08505, 0.1),\n",
       " 23: (0.06676190476190477, 0.081, 0.09523809523809523),\n",
       " 24: (0.06372727272727273, 0.07731818181818181, 0.09090909090909091),\n",
       " 25: (0.060956521739130444, 0.07395652173913043, 0.08695652173913043),\n",
       " 26: (0.05841666666666667, 0.070875, 0.08333333333333333),\n",
       " 27: (0.056080000000000005, 0.06804, 0.08),\n",
       " 28: (0.05392307692307693, 0.06542307692307693, 0.07692307692307693),\n",
       " 29: (0.05192592592592593, 0.063, 0.07407407407407407),\n",
       " 30: (0.05007142857142858, 0.060750000000000005, 0.07142857142857142),\n",
       " 31: (0.0483448275862069, 0.058655172413793095, 0.06896551724137931),\n",
       " 32: (0.046733333333333335, 0.05669999999999999, 0.06666666666666667),\n",
       " 33: (0.04522580645161291, 0.054870967741935485, 0.06451612903225806),\n",
       " 34: (0.043812500000000004, 0.05315625, 0.0625),\n",
       " 35: (0.042484848484848486, 0.05154545454545455, 0.06060606060606061),\n",
       " 36: (0.041235294117647064, 0.05002941176470588, 0.058823529411764705),\n",
       " 37: (0.04005714285714286, 0.048600000000000004, 0.05714285714285714),\n",
       " 38: (0.03894444444444445, 0.04725, 0.05555555555555555),\n",
       " 39: (0.0378918918918919, 0.04597297297297298, 0.05405405405405406),\n",
       " 40: (0.00014285714285714298, 0.0715, 0.14285714285714285),\n",
       " 41: (0.00013888888888888902, 0.06951388888888889, 0.1388888888888889),\n",
       " 42: (0.00013513513513513525, 0.06763513513513512, 0.13513513513513514),\n",
       " 43: (0.00013157894736842116, 0.06585526315789474, 0.13157894736842105),\n",
       " 44: (0.0001282051282051283, 0.06416666666666666, 0.1282051282051282),\n",
       " 45: (0.0001250000000000001, 0.0625625, 0.125),\n",
       " 46: (0.00012195121951219523, 0.06103658536585365, 0.12195121951219512),\n",
       " 47: (0.00011904761904761916, 0.059583333333333335, 0.11904761904761904),\n",
       " 48: (0.00011627906976744196, 0.058197674418604656, 0.11627906976744186),\n",
       " 49: (0.00011363636363636373, 0.056874999999999995, 0.11363636363636363)}"
      ]
     },
     "execution_count": 80,
     "metadata": {},
     "output_type": "execute_result"
    }
   ],
   "source": [
    "X = np.arange(5, 40, 1)\n",
    "Y = np.arange(0, 0.3, 0.001)\n",
    "k=2\n",
    "for no in X:\n",
    "    diffs = []\n",
    "    for acc in Y:\n",
    "        diff = (k*(1-acc))/(no-k)\n",
    "        diffs.append(diff)\n",
    "    diffs = np.array(diffs)\n",
    "    means[no] = (np.min(diffs), np.mean(diffs), np.max(diffs))\n",
    "means"
   ]
  },
  {
   "cell_type": "code",
   "execution_count": 81,
   "metadata": {},
   "outputs": [
    {
     "data": {
      "text/plain": [
       "{1: (4.362474273791786e-05, 0.021834183740327872, 0.04362474273791783),\n",
       " 2: (9.213000271327263e-05, 0.0461110663579929, 0.09213000271327254),\n",
       " 3: (0.00014665019238223697, 0.07339842128730956, 0.1466501923822369),\n",
       " 4: (0.00020881413629729998, 0.10451147521679856, 0.20881413629729975),\n",
       " 5: (0.00028111295863213534, 0.14069703579538356, 0.28111295863213503)}"
      ]
     },
     "execution_count": 81,
     "metadata": {},
     "output_type": "execute_result"
    }
   ],
   "source": [
    "ranges = {}\n",
    "X = np.arange(5, 50, 1)\n",
    "Y = np.arange(0, 1, 0.001)\n",
    "for k in np.arange(1, 6):\n",
    "    means = {}\n",
    "    for no in X:\n",
    "        diffs = []\n",
    "        for acc in Y:\n",
    "            diff = (k*(1-acc))/(no-k)\n",
    "            diffs.append(diff)\n",
    "        diffs = np.array(diffs)\n",
    "        means[no] = (np.min(diffs), np.mean(diffs), np.max(diffs))\n",
    "    tmin = 0\n",
    "    tmean = 0\n",
    "    tmax = 0\n",
    "    n = 0\n",
    "    for key, v in x.items():\n",
    "        if key>=10:\n",
    "            m1, m2, m3 = means[key]\n",
    "            tmin+=m1*v.shape[0]\n",
    "            tmean+=m2*v.shape[0]\n",
    "            tmax+=m3*v.shape[0]\n",
    "            n+=v.shape[0]\n",
    "    ranges[k] = (tmin/n, tmean/n , tmax/n)\n",
    "ranges"
   ]
  },
  {
   "cell_type": "code",
   "execution_count": 79,
   "metadata": {},
   "outputs": [
    {
     "data": {
      "text/plain": [
       "{1: (4.362474273791786e-05, 0.021834183740327872, 0.04362474273791783),\n",
       " 2: (9.213000271327263e-05, 0.0461110663579929, 0.09213000271327254),\n",
       " 3: (0.00014665019238223697, 0.07339842128730956, 0.1466501923822369),\n",
       " 4: (0.00020881413629729998, 0.10451147521679856, 0.20881413629729975),\n",
       " 5: (0.00028111295863213534, 0.14069703579538356, 0.28111295863213503)}"
      ]
     },
     "execution_count": 79,
     "metadata": {},
     "output_type": "execute_result"
    }
   ],
   "source": [
    "ranges"
   ]
  },
  {
   "cell_type": "code",
   "execution_count": null,
   "metadata": {},
   "outputs": [],
   "source": [
    "0.04342767295082038, 0.04631957038302037 ,0.04921146781522036"
   ]
  }
 ],
 "metadata": {
  "kernelspec": {
   "display_name": "Python 3",
   "language": "python",
   "name": "python3"
  },
  "language_info": {
   "codemirror_mode": {
    "name": "ipython",
    "version": 3
   },
   "file_extension": ".py",
   "mimetype": "text/x-python",
   "name": "python",
   "nbconvert_exporter": "python",
   "pygments_lexer": "ipython3",
   "version": "3.8.5"
  }
 },
 "nbformat": 4,
 "nbformat_minor": 2
}
